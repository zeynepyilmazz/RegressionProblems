{
 "cells": [
  {
   "cell_type": "markdown",
   "metadata": {},
   "source": [
    "In this assignment, you'll continue working with the house prices data. To complete this assignment, submit a link to a Jupyter notebook containing your solutions to the following tasks:"
   ]
  },
  {
   "cell_type": "code",
   "execution_count": 1,
   "metadata": {},
   "outputs": [],
   "source": [
    "import pandas as pd\n",
    "import numpy as np\n",
    "import matplotlib.pyplot as plt\n",
    "import seaborn as sns\n",
    "import statsmodels.api as sm\n",
    "from sklearn.linear_model import LinearRegression\n",
    "from sklearn.model_selection import train_test_split\n",
    "from sklearn.metrics import mean_absolute_error\n",
    "from statsmodels.tools.eval_measures import mse,rmse\n",
    "from sklearn.model_selection import KFold\n",
    "import warnings\n",
    "warnings.filterwarnings('ignore')"
   ]
  },
  {
   "cell_type": "code",
   "execution_count": 2,
   "metadata": {},
   "outputs": [
    {
     "data": {
      "text/html": [
       "<div>\n",
       "<style scoped>\n",
       "    .dataframe tbody tr th:only-of-type {\n",
       "        vertical-align: middle;\n",
       "    }\n",
       "\n",
       "    .dataframe tbody tr th {\n",
       "        vertical-align: top;\n",
       "    }\n",
       "\n",
       "    .dataframe thead th {\n",
       "        text-align: right;\n",
       "    }\n",
       "</style>\n",
       "<table border=\"1\" class=\"dataframe\">\n",
       "  <thead>\n",
       "    <tr style=\"text-align: right;\">\n",
       "      <th></th>\n",
       "      <th>Id</th>\n",
       "      <th>MSSubClass</th>\n",
       "      <th>MSZoning</th>\n",
       "      <th>LotFrontage</th>\n",
       "      <th>LotArea</th>\n",
       "      <th>Street</th>\n",
       "      <th>Alley</th>\n",
       "      <th>LotShape</th>\n",
       "      <th>LandContour</th>\n",
       "      <th>Utilities</th>\n",
       "      <th>...</th>\n",
       "      <th>PoolArea</th>\n",
       "      <th>PoolQC</th>\n",
       "      <th>Fence</th>\n",
       "      <th>MiscFeature</th>\n",
       "      <th>MiscVal</th>\n",
       "      <th>MoSold</th>\n",
       "      <th>YrSold</th>\n",
       "      <th>SaleType</th>\n",
       "      <th>SaleCondition</th>\n",
       "      <th>SalePrice</th>\n",
       "    </tr>\n",
       "  </thead>\n",
       "  <tbody>\n",
       "    <tr>\n",
       "      <th>0</th>\n",
       "      <td>1</td>\n",
       "      <td>60</td>\n",
       "      <td>RL</td>\n",
       "      <td>65.0</td>\n",
       "      <td>8450</td>\n",
       "      <td>Pave</td>\n",
       "      <td>NaN</td>\n",
       "      <td>Reg</td>\n",
       "      <td>Lvl</td>\n",
       "      <td>AllPub</td>\n",
       "      <td>...</td>\n",
       "      <td>0</td>\n",
       "      <td>NaN</td>\n",
       "      <td>NaN</td>\n",
       "      <td>NaN</td>\n",
       "      <td>0</td>\n",
       "      <td>2</td>\n",
       "      <td>2008</td>\n",
       "      <td>WD</td>\n",
       "      <td>Normal</td>\n",
       "      <td>208500</td>\n",
       "    </tr>\n",
       "    <tr>\n",
       "      <th>1</th>\n",
       "      <td>2</td>\n",
       "      <td>20</td>\n",
       "      <td>RL</td>\n",
       "      <td>80.0</td>\n",
       "      <td>9600</td>\n",
       "      <td>Pave</td>\n",
       "      <td>NaN</td>\n",
       "      <td>Reg</td>\n",
       "      <td>Lvl</td>\n",
       "      <td>AllPub</td>\n",
       "      <td>...</td>\n",
       "      <td>0</td>\n",
       "      <td>NaN</td>\n",
       "      <td>NaN</td>\n",
       "      <td>NaN</td>\n",
       "      <td>0</td>\n",
       "      <td>5</td>\n",
       "      <td>2007</td>\n",
       "      <td>WD</td>\n",
       "      <td>Normal</td>\n",
       "      <td>181500</td>\n",
       "    </tr>\n",
       "    <tr>\n",
       "      <th>2</th>\n",
       "      <td>3</td>\n",
       "      <td>60</td>\n",
       "      <td>RL</td>\n",
       "      <td>68.0</td>\n",
       "      <td>11250</td>\n",
       "      <td>Pave</td>\n",
       "      <td>NaN</td>\n",
       "      <td>IR1</td>\n",
       "      <td>Lvl</td>\n",
       "      <td>AllPub</td>\n",
       "      <td>...</td>\n",
       "      <td>0</td>\n",
       "      <td>NaN</td>\n",
       "      <td>NaN</td>\n",
       "      <td>NaN</td>\n",
       "      <td>0</td>\n",
       "      <td>9</td>\n",
       "      <td>2008</td>\n",
       "      <td>WD</td>\n",
       "      <td>Normal</td>\n",
       "      <td>223500</td>\n",
       "    </tr>\n",
       "    <tr>\n",
       "      <th>3</th>\n",
       "      <td>4</td>\n",
       "      <td>70</td>\n",
       "      <td>RL</td>\n",
       "      <td>60.0</td>\n",
       "      <td>9550</td>\n",
       "      <td>Pave</td>\n",
       "      <td>NaN</td>\n",
       "      <td>IR1</td>\n",
       "      <td>Lvl</td>\n",
       "      <td>AllPub</td>\n",
       "      <td>...</td>\n",
       "      <td>0</td>\n",
       "      <td>NaN</td>\n",
       "      <td>NaN</td>\n",
       "      <td>NaN</td>\n",
       "      <td>0</td>\n",
       "      <td>2</td>\n",
       "      <td>2006</td>\n",
       "      <td>WD</td>\n",
       "      <td>Abnorml</td>\n",
       "      <td>140000</td>\n",
       "    </tr>\n",
       "    <tr>\n",
       "      <th>4</th>\n",
       "      <td>5</td>\n",
       "      <td>60</td>\n",
       "      <td>RL</td>\n",
       "      <td>84.0</td>\n",
       "      <td>14260</td>\n",
       "      <td>Pave</td>\n",
       "      <td>NaN</td>\n",
       "      <td>IR1</td>\n",
       "      <td>Lvl</td>\n",
       "      <td>AllPub</td>\n",
       "      <td>...</td>\n",
       "      <td>0</td>\n",
       "      <td>NaN</td>\n",
       "      <td>NaN</td>\n",
       "      <td>NaN</td>\n",
       "      <td>0</td>\n",
       "      <td>12</td>\n",
       "      <td>2008</td>\n",
       "      <td>WD</td>\n",
       "      <td>Normal</td>\n",
       "      <td>250000</td>\n",
       "    </tr>\n",
       "  </tbody>\n",
       "</table>\n",
       "<p>5 rows × 81 columns</p>\n",
       "</div>"
      ],
      "text/plain": [
       "   Id  MSSubClass MSZoning  LotFrontage  LotArea Street Alley LotShape  \\\n",
       "0   1          60       RL         65.0     8450   Pave   NaN      Reg   \n",
       "1   2          20       RL         80.0     9600   Pave   NaN      Reg   \n",
       "2   3          60       RL         68.0    11250   Pave   NaN      IR1   \n",
       "3   4          70       RL         60.0     9550   Pave   NaN      IR1   \n",
       "4   5          60       RL         84.0    14260   Pave   NaN      IR1   \n",
       "\n",
       "  LandContour Utilities  ... PoolArea PoolQC Fence MiscFeature MiscVal MoSold  \\\n",
       "0         Lvl    AllPub  ...        0    NaN   NaN         NaN       0      2   \n",
       "1         Lvl    AllPub  ...        0    NaN   NaN         NaN       0      5   \n",
       "2         Lvl    AllPub  ...        0    NaN   NaN         NaN       0      9   \n",
       "3         Lvl    AllPub  ...        0    NaN   NaN         NaN       0      2   \n",
       "4         Lvl    AllPub  ...        0    NaN   NaN         NaN       0     12   \n",
       "\n",
       "  YrSold  SaleType  SaleCondition  SalePrice  \n",
       "0   2008        WD         Normal     208500  \n",
       "1   2007        WD         Normal     181500  \n",
       "2   2008        WD         Normal     223500  \n",
       "3   2006        WD        Abnorml     140000  \n",
       "4   2008        WD         Normal     250000  \n",
       "\n",
       "[5 rows x 81 columns]"
      ]
     },
     "execution_count": 2,
     "metadata": {},
     "output_type": "execute_result"
    }
   ],
   "source": [
    "house_prices_df = pd.read_csv(\"https://djl-lms-assets.s3.eu-central-1.amazonaws.com/datasets/house_prices.csv\", sep = \";\")\n",
    "house_prices_df.head()"
   ]
  },
  {
   "cell_type": "markdown",
   "metadata": {},
   "source": [
    "- Reimplement your model from the previous lesson."
   ]
  },
  {
   "cell_type": "code",
   "execution_count": 3,
   "metadata": {},
   "outputs": [],
   "source": [
    "house_price = pd.DataFrame()\n",
    "house_price = house_prices_df[['MSSubClass', 'MSZoning','LotArea','Street','LotShape','Neighborhood','BldgType','GrLivArea',\n",
    "                               'OverallQual','YearBuilt','RoofStyle', 'HouseStyle' ,'TotalBsmtSF', 'Heating','TotRmsAbvGrd',\n",
    "                               'Fireplaces','GarageCars','PoolArea', 'YrSold', 'SaleType','SaleCondition','FullBath',\n",
    "                               'SalePrice']]"
   ]
  },
  {
   "cell_type": "code",
   "execution_count": 4,
   "metadata": {},
   "outputs": [],
   "source": [
    "for col in house_price.select_dtypes(include='object'):\n",
    "    df = pd.DataFrame(house_price[col].unique())\n",
    "    df.columns = [col]\n",
    "    for i in house_price[col].unique():\n",
    "        house_price.loc[house_price[col] == i , col+'_num'] = df[df[col] == i ].index[0]"
   ]
  },
  {
   "cell_type": "code",
   "execution_count": 5,
   "metadata": {},
   "outputs": [
    {
     "data": {
      "text/plain": [
       "Index(['MSSubClass', 'MSZoning', 'LotArea', 'Street', 'LotShape',\n",
       "       'Neighborhood', 'BldgType', 'GrLivArea', 'OverallQual', 'YearBuilt',\n",
       "       'RoofStyle', 'HouseStyle', 'TotalBsmtSF', 'Heating', 'TotRmsAbvGrd',\n",
       "       'Fireplaces', 'GarageCars', 'PoolArea', 'YrSold', 'SaleType',\n",
       "       'SaleCondition', 'FullBath', 'SalePrice', 'MSZoning_num', 'Street_num',\n",
       "       'LotShape_num', 'Neighborhood_num', 'BldgType_num', 'RoofStyle_num',\n",
       "       'HouseStyle_num', 'Heating_num', 'SaleType_num', 'SaleCondition_num'],\n",
       "      dtype='object')"
      ]
     },
     "execution_count": 5,
     "metadata": {},
     "output_type": "execute_result"
    }
   ],
   "source": [
    "house_price.columns"
   ]
  },
  {
   "cell_type": "code",
   "execution_count": 6,
   "metadata": {},
   "outputs": [],
   "source": [
    "Y = house_price['SalePrice']\n",
    "X = house_price[['GrLivArea','YearBuilt', 'TotalBsmtSF', 'GarageCars','Fireplaces','LotArea','BldgType_num','OverallQual' ,\n",
    "                 'PoolArea', 'YrSold' , 'Heating_num']]"
   ]
  },
  {
   "cell_type": "code",
   "execution_count": 7,
   "metadata": {},
   "outputs": [],
   "source": [
    "X_train , X_test, Y_train , Y_test = train_test_split(X , Y ,test_size = 0.2 , random_state = 465)"
   ]
  },
  {
   "cell_type": "code",
   "execution_count": 8,
   "metadata": {},
   "outputs": [
    {
     "name": "stdout",
     "output_type": "stream",
     "text": [
      "(1168, 11)\n",
      "(292, 11)\n",
      "(1168,)\n",
      "(292,)\n"
     ]
    }
   ],
   "source": [
    "print(X_train.shape)\n",
    "print(X_test.shape)\n",
    "print(Y_train.shape)\n",
    "print(Y_test.shape)"
   ]
  },
  {
   "cell_type": "markdown",
   "metadata": {},
   "source": [
    "- Try OLS, Lasso, Ridge and ElasticNet regressions using the same model specification. This time, you need to do k-fold cross-validation to choose the best hyperparameter values for your models. Which model is the best? Why?"
   ]
  },
  {
   "cell_type": "code",
   "execution_count": 9,
   "metadata": {},
   "outputs": [],
   "source": [
    "lrm = LinearRegression().fit(X_train , Y_train)"
   ]
  },
  {
   "cell_type": "code",
   "execution_count": 10,
   "metadata": {},
   "outputs": [
    {
     "name": "stdout",
     "output_type": "stream",
     "text": [
      "train set R-squared : 0.793044443387863\n",
      "test set R-squared  : 0.6638277150463111\n"
     ]
    }
   ],
   "source": [
    "print(\"train set R-squared : {}\".format(lrm.score(X_train , Y_train)))\n",
    "print(\"test set R-squared  : {}\".format(lrm.score(X_test , Y_test)))"
   ]
  },
  {
   "cell_type": "code",
   "execution_count": 11,
   "metadata": {},
   "outputs": [
    {
     "name": "stdout",
     "output_type": "stream",
     "text": [
      "TRAİN SET\n",
      "mean absolute error            : 23077.635944497324\n",
      "mean squared error             : 1256082458.4919229\n",
      "root mean squared error        : 35441.25362472274\n",
      "mean absolute percentage error : 13.81778344250325\n",
      "TEST SET\n",
      "mean absolute error            : 28177.010763418682\n",
      "mean squared error             : 2435691511.163053\n",
      "root mean squared error        : 49352.725468438446\n",
      "mean absolute percentage error : 15.964610260515846\n"
     ]
    }
   ],
   "source": [
    "y_preds_train = lrm.predict(X_train)\n",
    "y_preds_test = lrm.predict(X_test)\n",
    "print(\"TRAİN SET\")\n",
    "print(\"mean absolute error            : {}\".format(mean_absolute_error(Y_train , y_preds_train)))\n",
    "print(\"mean squared error             : {}\".format(mse(Y_train , y_preds_train)))\n",
    "print(\"root mean squared error        : {}\".format(rmse(Y_train , y_preds_train)))\n",
    "print(\"mean absolute percentage error : {}\".format(np.mean(np.abs((Y_train - y_preds_train) / Y_train)) * 100))\n",
    "print(\"TEST SET\")\n",
    "print(\"mean absolute error            : {}\".format(mean_absolute_error(Y_test , y_preds_test)))\n",
    "print(\"mean squared error             : {}\".format(mse(Y_test , y_preds_test)))\n",
    "print(\"root mean squared error        : {}\".format(rmse(Y_test , y_preds_test)))\n",
    "print(\"mean absolute percentage error : {}\".format(np.mean(np.abs((Y_test - y_preds_test) / Y_test)) * 100))"
   ]
  },
  {
   "cell_type": "code",
   "execution_count": 12,
   "metadata": {
    "scrolled": true
   },
   "outputs": [
    {
     "name": "stdout",
     "output_type": "stream",
     "text": [
      "Piece No.1 score: 0.837\n",
      "-----------------------\n",
      "Piece No.2 score: 0.793\n",
      "-----------------------\n",
      "Piece No.3 score: 0.544\n",
      "-----------------------\n",
      "Piece No.4 score: 0.827\n",
      "-----------------------\n",
      "Piece No.5 score: 0.814\n",
      "-----------------------\n"
     ]
    }
   ],
   "source": [
    "lrm = LinearRegression()\n",
    "\n",
    "kf = KFold(n_splits=5, shuffle=True, random_state=1111)\n",
    "pieces = kf.split(X)\n",
    "score_list = []\n",
    "\n",
    "for i, (train_indeks, test_indeks) in enumerate(pieces):\n",
    "    X_train, Y_train = X.iloc[train_indeks], Y.iloc[train_indeks]\n",
    "    X_test, Y_test = X.iloc[test_indeks], Y.iloc[test_indeks]\n",
    "    \n",
    "    lrm.fit(X_train, Y_train)\n",
    "    \n",
    "    prediction = lrm.predict(X_test)\n",
    "    \n",
    "    score = lrm.score(X_test, Y_test)  \n",
    "    score_list.append(score)\n",
    "    \n",
    "    print(\"Piece No.{} score: {:.3f}\".format(i+1, score))\n",
    "    print(\"-\"*23)"
   ]
  },
  {
   "cell_type": "code",
   "execution_count": 13,
   "metadata": {},
   "outputs": [],
   "source": [
    "from sklearn.linear_model import Ridge"
   ]
  },
  {
   "cell_type": "code",
   "execution_count": 14,
   "metadata": {},
   "outputs": [],
   "source": [
    "score = []\n",
    "for i in range(0,10):  \n",
    "    ridgeregr = Ridge(alpha = 10 ** i)\n",
    "    ridgeregr.fit(X_train , Y_train)\n",
    "    score.append([i , ridgeregr.score(X_train , Y_train) , ridgeregr.score(X_test , Y_test)])\n"
   ]
  },
  {
   "cell_type": "code",
   "execution_count": 15,
   "metadata": {},
   "outputs": [],
   "source": [
    "score = pd.DataFrame(score , columns=['alpha' , 'train' , 'test'])"
   ]
  },
  {
   "cell_type": "code",
   "execution_count": 16,
   "metadata": {},
   "outputs": [
    {
     "data": {
      "image/png": "[encoded data removed]",
      "text/plain": [
       "<Figure size 1152x576 with 1 Axes>"
      ]
     },
     "metadata": {
      "needs_background": "light"
     },
     "output_type": "display_data"
    }
   ],
   "source": [
    "plt.figure(figsize=(16,8))\n",
    "plt.plot(score['alpha'] , score['train'])\n",
    "plt.plot(score['alpha'] , score['test'])\n",
    "plt.ylabel(\"score\")\n",
    "plt.show()"
   ]
  },
  {
   "cell_type": "code",
   "execution_count": 17,
   "metadata": {},
   "outputs": [
    {
     "data": {
      "text/plain": [
       "Ridge(alpha=100)"
      ]
     },
     "execution_count": 17,
     "metadata": {},
     "output_type": "execute_result"
    }
   ],
   "source": [
    "ridgeregr = Ridge(alpha = 10 ** 2)\n",
    "ridgeregr.fit(X_train , Y_train)"
   ]
  },
  {
   "cell_type": "code",
   "execution_count": 18,
   "metadata": {},
   "outputs": [
    {
     "name": "stdout",
     "output_type": "stream",
     "text": [
      "train set R-squared : 0.7682192939935927\n",
      "test set R-squared  : 0.8153205191602524\n"
     ]
    }
   ],
   "source": [
    "print(\"train set R-squared : {}\".format(ridgeregr.score(X_train , Y_train)))\n",
    "print(\"test set R-squared  : {}\".format(ridgeregr.score(X_test , Y_test)))"
   ]
  },
  {
   "cell_type": "code",
   "execution_count": 19,
   "metadata": {},
   "outputs": [
    {
     "name": "stdout",
     "output_type": "stream",
     "text": [
      "TRAİN SET\n",
      "mean absolute error            : 22759.17586884294\n",
      "mean squared error             : 1364615427.5262613\n",
      "root mean squared error        : 36940.701502898686\n",
      "mean absolute percentage error : 13.20841509772979\n",
      "TEST SET\n",
      "mean absolute error            : 24192.252587698265\n",
      "mean squared error             : 1465893907.0320256\n",
      "root mean squared error        : 38286.99396703828\n",
      "mean absolute percentage error : 14.314977820231608\n"
     ]
    }
   ],
   "source": [
    "y_preds_train = ridgeregr.predict(X_train)\n",
    "y_preds_test = ridgeregr.predict(X_test)\n",
    "print(\"TRAİN SET\")\n",
    "print(\"mean absolute error            : {}\".format(mean_absolute_error(Y_train , y_preds_train)))\n",
    "print(\"mean squared error             : {}\".format(mse(Y_train , y_preds_train)))\n",
    "print(\"root mean squared error        : {}\".format(rmse(Y_train , y_preds_train)))\n",
    "print(\"mean absolute percentage error : {}\".format(np.mean(np.abs((Y_train - y_preds_train) / Y_train)) * 100))\n",
    "print(\"TEST SET\")\n",
    "print(\"mean absolute error            : {}\".format(mean_absolute_error(Y_test , y_preds_test)))\n",
    "print(\"mean squared error             : {}\".format(mse(Y_test , y_preds_test)))\n",
    "print(\"root mean squared error        : {}\".format(rmse(Y_test , y_preds_test)))\n",
    "print(\"mean absolute percentage error : {}\".format(np.mean(np.abs((Y_test - y_preds_test) / Y_test)) * 100))"
   ]
  },
  {
   "cell_type": "code",
   "execution_count": 20,
   "metadata": {},
   "outputs": [
    {
     "name": "stdout",
     "output_type": "stream",
     "text": [
      "Piece No.1 score: 0.839\n",
      "-----------------------\n",
      "Piece No.2 score: 0.794\n",
      "-----------------------\n",
      "Piece No.3 score: 0.533\n",
      "-----------------------\n",
      "Piece No.4 score: 0.831\n",
      "-----------------------\n",
      "Piece No.5 score: 0.815\n",
      "-----------------------\n"
     ]
    }
   ],
   "source": [
    "ridgeregr = Ridge(alpha = 10 ** 2)\n",
    "\n",
    "kf = KFold(n_splits=5, shuffle=True, random_state=1111)\n",
    "pieces = kf.split(X)\n",
    "score_list = []\n",
    "\n",
    "for i, (train_indeks, test_indeks) in enumerate(pieces):\n",
    "    X_train, Y_train = X.iloc[train_indeks], Y.iloc[train_indeks]\n",
    "    X_test, Y_test = X.iloc[test_indeks], Y.iloc[test_indeks]\n",
    "    \n",
    "    ridgeregr.fit(X_train, Y_train)\n",
    "    \n",
    "    prediction = ridgeregr.predict(X_test)\n",
    "    \n",
    "    score = ridgeregr.score(X_test, Y_test)  \n",
    "    score_list.append(score)\n",
    "    \n",
    "    print(\"Piece No.{} score: {:.3f}\".format(i+1, score))\n",
    "    print(\"-\"*23)"
   ]
  },
  {
   "cell_type": "code",
   "execution_count": 21,
   "metadata": {},
   "outputs": [],
   "source": [
    "from sklearn.linear_model import Lasso"
   ]
  },
  {
   "cell_type": "code",
   "execution_count": 22,
   "metadata": {},
   "outputs": [],
   "source": [
    "score = []\n",
    "for i in range(0,10):  \n",
    "    lassoregr = Lasso(alpha = 10 ** i)\n",
    "    lassoregr.fit(X_train , Y_train)\n",
    "    score.append([i , lassoregr.score(X_train , Y_train) , lassoregr.score(X_test , Y_test)])"
   ]
  },
  {
   "cell_type": "code",
   "execution_count": 23,
   "metadata": {},
   "outputs": [],
   "source": [
    "score = pd.DataFrame(score , columns=['alpha' , 'train' , 'test'])"
   ]
  },
  {
   "cell_type": "code",
   "execution_count": 24,
   "metadata": {},
   "outputs": [
    {
     "data": {
      "image/png": "[encoded data removed]",
      "text/plain": [
       "<Figure size 1152x576 with 1 Axes>"
      ]
     },
     "metadata": {
      "needs_background": "light"
     },
     "output_type": "display_data"
    }
   ],
   "source": [
    "plt.figure(figsize=(16,8))\n",
    "plt.plot(score['alpha'] , score['train'])\n",
    "plt.plot(score['alpha'] , score['test'])\n",
    "plt.ylabel(\"score\")\n",
    "plt.show()"
   ]
  },
  {
   "cell_type": "code",
   "execution_count": 25,
   "metadata": {},
   "outputs": [
    {
     "data": {
      "text/plain": [
       "Lasso(alpha=1000)"
      ]
     },
     "execution_count": 25,
     "metadata": {},
     "output_type": "execute_result"
    }
   ],
   "source": [
    "lassoregr = Lasso(alpha = 10 ** 3)\n",
    "lassoregr.fit(X_train , Y_train)"
   ]
  },
  {
   "cell_type": "code",
   "execution_count": 26,
   "metadata": {},
   "outputs": [
    {
     "name": "stdout",
     "output_type": "stream",
     "text": [
      "train set R-squared : 0.7679095809720675\n",
      "test set R-squared  : 0.8155449068254075\n"
     ]
    }
   ],
   "source": [
    "print(\"train set R-squared : {}\".format(lassoregr.score(X_train , Y_train)))\n",
    "print(\"test set R-squared  : {}\".format(lassoregr.score(X_test , Y_test)))"
   ]
  },
  {
   "cell_type": "code",
   "execution_count": 27,
   "metadata": {},
   "outputs": [
    {
     "name": "stdout",
     "output_type": "stream",
     "text": [
      "TRAİN SET\n",
      "mean absolute error            : 22816.545094085974\n",
      "mean squared error             : 1366438871.6539502\n",
      "root mean squared error        : 36965.37395528348\n",
      "mean absolute percentage error : 13.280823866119762\n",
      "TEST SET\n",
      "mean absolute error            : 24353.25133568205\n",
      "mean squared error             : 1464112829.2984934\n",
      "root mean squared error        : 38263.727331488415\n",
      "mean absolute percentage error : 14.503390431734243\n"
     ]
    }
   ],
   "source": [
    "y_preds_train = lassoregr.predict(X_train)\n",
    "y_preds_test = lassoregr.predict(X_test)\n",
    "print(\"TRAİN SET\")\n",
    "print(\"mean absolute error            : {}\".format(mean_absolute_error(Y_train , y_preds_train)))\n",
    "print(\"mean squared error             : {}\".format(mse(Y_train , y_preds_train)))\n",
    "print(\"root mean squared error        : {}\".format(rmse(Y_train , y_preds_train)))\n",
    "print(\"mean absolute percentage error : {}\".format(np.mean(np.abs((Y_train - y_preds_train) / Y_train)) * 100))\n",
    "print(\"TEST SET\")\n",
    "print(\"mean absolute error            : {}\".format(mean_absolute_error(Y_test , y_preds_test)))\n",
    "print(\"mean squared error             : {}\".format(mse(Y_test , y_preds_test)))\n",
    "print(\"root mean squared error        : {}\".format(rmse(Y_test , y_preds_test)))\n",
    "print(\"mean absolute percentage error : {}\".format(np.mean(np.abs((Y_test - y_preds_test) / Y_test)) * 100))"
   ]
  },
  {
   "cell_type": "code",
   "execution_count": 28,
   "metadata": {},
   "outputs": [
    {
     "name": "stdout",
     "output_type": "stream",
     "text": [
      "Piece No.1 score: 0.840\n",
      "-----------------------\n",
      "Piece No.2 score: 0.795\n",
      "-----------------------\n",
      "Piece No.3 score: 0.529\n",
      "-----------------------\n",
      "Piece No.4 score: 0.831\n",
      "-----------------------\n",
      "Piece No.5 score: 0.816\n",
      "-----------------------\n"
     ]
    }
   ],
   "source": [
    "lassoregr = Lasso(alpha = 10 ** 3)\n",
    "\n",
    "kf = KFold(n_splits=5, shuffle=True, random_state=1111)\n",
    "pieces = kf.split(X)\n",
    "score_list = []\n",
    "\n",
    "for i, (train_indeks, test_indeks) in enumerate(pieces):\n",
    "    X_train, Y_train = X.iloc[train_indeks], Y.iloc[train_indeks]\n",
    "    X_test, Y_test = X.iloc[test_indeks], Y.iloc[test_indeks]\n",
    "    \n",
    "    lassoregr.fit(X_train, Y_train)\n",
    "    \n",
    "    prediction = lassoregr.predict(X_test)\n",
    "    \n",
    "    score = lassoregr.score(X_test, Y_test)  \n",
    "    score_list.append(score)\n",
    "    \n",
    "    print(\"Piece No.{} score: {:.3f}\".format(i+1, score))\n",
    "    print(\"-\"*23)"
   ]
  },
  {
   "cell_type": "code",
   "execution_count": 29,
   "metadata": {},
   "outputs": [],
   "source": [
    "from sklearn.linear_model import ElasticNet"
   ]
  },
  {
   "cell_type": "code",
   "execution_count": 30,
   "metadata": {},
   "outputs": [],
   "source": [
    "score = []\n",
    "for i in range(-10,10):  \n",
    "    for j in np.arange(0 , 1 , 0.1):\n",
    "        elasticregr = ElasticNet(alpha = 10 ** i , l1_ratio = j)\n",
    "        elasticregr.fit(X_train , Y_train)\n",
    "        score.append([i , j , elasticregr.score(X_train , Y_train) , elasticregr.score(X_test , Y_test)])"
   ]
  },
  {
   "cell_type": "code",
   "execution_count": 31,
   "metadata": {},
   "outputs": [],
   "source": [
    "score = pd.DataFrame(score , columns=['alpha', 'l1_ratio' , 'train' , 'test'])"
   ]
  },
  {
   "cell_type": "code",
   "execution_count": 32,
   "metadata": {},
   "outputs": [],
   "source": [
    "score['fark'] = np.abs(score['train'] - score['test'])"
   ]
  },
  {
   "cell_type": "code",
   "execution_count": 33,
   "metadata": {},
   "outputs": [
    {
     "data": {
      "text/html": [
       "<div>\n",
       "<style scoped>\n",
       "    .dataframe tbody tr th:only-of-type {\n",
       "        vertical-align: middle;\n",
       "    }\n",
       "\n",
       "    .dataframe tbody tr th {\n",
       "        vertical-align: top;\n",
       "    }\n",
       "\n",
       "    .dataframe thead th {\n",
       "        text-align: right;\n",
       "    }\n",
       "</style>\n",
       "<table border=\"1\" class=\"dataframe\">\n",
       "  <thead>\n",
       "    <tr style=\"text-align: right;\">\n",
       "      <th></th>\n",
       "      <th>alpha</th>\n",
       "      <th>l1_ratio</th>\n",
       "      <th>train</th>\n",
       "      <th>test</th>\n",
       "      <th>fark</th>\n",
       "    </tr>\n",
       "  </thead>\n",
       "  <tbody>\n",
       "    <tr>\n",
       "      <th>9</th>\n",
       "      <td>-10</td>\n",
       "      <td>0.9</td>\n",
       "      <td>0.769263</td>\n",
       "      <td>0.813811</td>\n",
       "      <td>0.044547</td>\n",
       "    </tr>\n",
       "    <tr>\n",
       "      <th>8</th>\n",
       "      <td>-10</td>\n",
       "      <td>0.8</td>\n",
       "      <td>0.769263</td>\n",
       "      <td>0.813811</td>\n",
       "      <td>0.044547</td>\n",
       "    </tr>\n",
       "    <tr>\n",
       "      <th>7</th>\n",
       "      <td>-10</td>\n",
       "      <td>0.7</td>\n",
       "      <td>0.769263</td>\n",
       "      <td>0.813811</td>\n",
       "      <td>0.044547</td>\n",
       "    </tr>\n",
       "    <tr>\n",
       "      <th>6</th>\n",
       "      <td>-10</td>\n",
       "      <td>0.6</td>\n",
       "      <td>0.769263</td>\n",
       "      <td>0.813811</td>\n",
       "      <td>0.044547</td>\n",
       "    </tr>\n",
       "    <tr>\n",
       "      <th>5</th>\n",
       "      <td>-10</td>\n",
       "      <td>0.5</td>\n",
       "      <td>0.769263</td>\n",
       "      <td>0.813811</td>\n",
       "      <td>0.044547</td>\n",
       "    </tr>\n",
       "    <tr>\n",
       "      <th>4</th>\n",
       "      <td>-10</td>\n",
       "      <td>0.4</td>\n",
       "      <td>0.769263</td>\n",
       "      <td>0.813811</td>\n",
       "      <td>0.044547</td>\n",
       "    </tr>\n",
       "    <tr>\n",
       "      <th>3</th>\n",
       "      <td>-10</td>\n",
       "      <td>0.3</td>\n",
       "      <td>0.769263</td>\n",
       "      <td>0.813811</td>\n",
       "      <td>0.044547</td>\n",
       "    </tr>\n",
       "    <tr>\n",
       "      <th>2</th>\n",
       "      <td>-10</td>\n",
       "      <td>0.2</td>\n",
       "      <td>0.769263</td>\n",
       "      <td>0.813811</td>\n",
       "      <td>0.044547</td>\n",
       "    </tr>\n",
       "    <tr>\n",
       "      <th>1</th>\n",
       "      <td>-10</td>\n",
       "      <td>0.1</td>\n",
       "      <td>0.769263</td>\n",
       "      <td>0.813811</td>\n",
       "      <td>0.044547</td>\n",
       "    </tr>\n",
       "    <tr>\n",
       "      <th>0</th>\n",
       "      <td>-10</td>\n",
       "      <td>0.0</td>\n",
       "      <td>0.769263</td>\n",
       "      <td>0.813811</td>\n",
       "      <td>0.044547</td>\n",
       "    </tr>\n",
       "    <tr>\n",
       "      <th>19</th>\n",
       "      <td>-9</td>\n",
       "      <td>0.9</td>\n",
       "      <td>0.769263</td>\n",
       "      <td>0.813811</td>\n",
       "      <td>0.044547</td>\n",
       "    </tr>\n",
       "    <tr>\n",
       "      <th>18</th>\n",
       "      <td>-9</td>\n",
       "      <td>0.8</td>\n",
       "      <td>0.769263</td>\n",
       "      <td>0.813811</td>\n",
       "      <td>0.044547</td>\n",
       "    </tr>\n",
       "    <tr>\n",
       "      <th>17</th>\n",
       "      <td>-9</td>\n",
       "      <td>0.7</td>\n",
       "      <td>0.769263</td>\n",
       "      <td>0.813811</td>\n",
       "      <td>0.044547</td>\n",
       "    </tr>\n",
       "    <tr>\n",
       "      <th>16</th>\n",
       "      <td>-9</td>\n",
       "      <td>0.6</td>\n",
       "      <td>0.769263</td>\n",
       "      <td>0.813811</td>\n",
       "      <td>0.044547</td>\n",
       "    </tr>\n",
       "    <tr>\n",
       "      <th>15</th>\n",
       "      <td>-9</td>\n",
       "      <td>0.5</td>\n",
       "      <td>0.769263</td>\n",
       "      <td>0.813811</td>\n",
       "      <td>0.044547</td>\n",
       "    </tr>\n",
       "    <tr>\n",
       "      <th>14</th>\n",
       "      <td>-9</td>\n",
       "      <td>0.4</td>\n",
       "      <td>0.769263</td>\n",
       "      <td>0.813811</td>\n",
       "      <td>0.044547</td>\n",
       "    </tr>\n",
       "    <tr>\n",
       "      <th>13</th>\n",
       "      <td>-9</td>\n",
       "      <td>0.3</td>\n",
       "      <td>0.769263</td>\n",
       "      <td>0.813811</td>\n",
       "      <td>0.044547</td>\n",
       "    </tr>\n",
       "    <tr>\n",
       "      <th>12</th>\n",
       "      <td>-9</td>\n",
       "      <td>0.2</td>\n",
       "      <td>0.769263</td>\n",
       "      <td>0.813811</td>\n",
       "      <td>0.044547</td>\n",
       "    </tr>\n",
       "    <tr>\n",
       "      <th>11</th>\n",
       "      <td>-9</td>\n",
       "      <td>0.1</td>\n",
       "      <td>0.769263</td>\n",
       "      <td>0.813811</td>\n",
       "      <td>0.044547</td>\n",
       "    </tr>\n",
       "    <tr>\n",
       "      <th>10</th>\n",
       "      <td>-9</td>\n",
       "      <td>0.0</td>\n",
       "      <td>0.769263</td>\n",
       "      <td>0.813811</td>\n",
       "      <td>0.044547</td>\n",
       "    </tr>\n",
       "  </tbody>\n",
       "</table>\n",
       "</div>"
      ],
      "text/plain": [
       "    alpha  l1_ratio     train      test      fark\n",
       "9     -10       0.9  0.769263  0.813811  0.044547\n",
       "8     -10       0.8  0.769263  0.813811  0.044547\n",
       "7     -10       0.7  0.769263  0.813811  0.044547\n",
       "6     -10       0.6  0.769263  0.813811  0.044547\n",
       "5     -10       0.5  0.769263  0.813811  0.044547\n",
       "4     -10       0.4  0.769263  0.813811  0.044547\n",
       "3     -10       0.3  0.769263  0.813811  0.044547\n",
       "2     -10       0.2  0.769263  0.813811  0.044547\n",
       "1     -10       0.1  0.769263  0.813811  0.044547\n",
       "0     -10       0.0  0.769263  0.813811  0.044547\n",
       "19     -9       0.9  0.769263  0.813811  0.044547\n",
       "18     -9       0.8  0.769263  0.813811  0.044547\n",
       "17     -9       0.7  0.769263  0.813811  0.044547\n",
       "16     -9       0.6  0.769263  0.813811  0.044547\n",
       "15     -9       0.5  0.769263  0.813811  0.044547\n",
       "14     -9       0.4  0.769263  0.813811  0.044547\n",
       "13     -9       0.3  0.769263  0.813811  0.044547\n",
       "12     -9       0.2  0.769263  0.813811  0.044547\n",
       "11     -9       0.1  0.769263  0.813811  0.044547\n",
       "10     -9       0.0  0.769263  0.813811  0.044547"
      ]
     },
     "execution_count": 33,
     "metadata": {},
     "output_type": "execute_result"
    }
   ],
   "source": [
    "score[(score['train'] > 0.70) & (score['test'] > 0.70)].sort_values(by='fark').head(20)"
   ]
  },
  {
   "cell_type": "code",
   "execution_count": 34,
   "metadata": {},
   "outputs": [
    {
     "data": {
      "text/plain": [
       "ElasticNet(alpha=1e-10, l1_ratio=0.9)"
      ]
     },
     "execution_count": 34,
     "metadata": {},
     "output_type": "execute_result"
    }
   ],
   "source": [
    "elasticregr = ElasticNet(alpha = 10 ** (-10) , l1_ratio = 0.9)\n",
    "elasticregr.fit(X_train , Y_train)"
   ]
  },
  {
   "cell_type": "code",
   "execution_count": 35,
   "metadata": {},
   "outputs": [
    {
     "name": "stdout",
     "output_type": "stream",
     "text": [
      "train set R-squared : 0.7692631656358224\n",
      "test set R-squared  : 0.813810579918628\n"
     ]
    }
   ],
   "source": [
    "print(\"train set R-squared : {}\".format(elasticregr.score(X_train , Y_train)))\n",
    "print(\"test set R-squared  : {}\".format(elasticregr.score(X_test , Y_test)))"
   ]
  },
  {
   "cell_type": "code",
   "execution_count": 36,
   "metadata": {},
   "outputs": [
    {
     "name": "stdout",
     "output_type": "stream",
     "text": [
      "TRAİN SET\n",
      "mean absolute error            : 23089.080911519348\n",
      "mean squared error             : 1358469603.8643708\n",
      "root mean squared error        : 36857.422642723825\n",
      "mean absolute percentage error : 13.559224055025847\n",
      "TEST SET\n",
      "mean absolute error            : 24691.86091005814\n",
      "mean squared error             : 1477879054.0782547\n",
      "root mean squared error        : 38443.19255834841\n",
      "mean absolute percentage error : 14.854863361277468\n"
     ]
    }
   ],
   "source": [
    "y_preds_train = elasticregr.predict(X_train)\n",
    "y_preds_test = elasticregr.predict(X_test)\n",
    "print(\"TRAİN SET\")\n",
    "print(\"mean absolute error            : {}\".format(mean_absolute_error(Y_train , y_preds_train)))\n",
    "print(\"mean squared error             : {}\".format(mse(Y_train , y_preds_train)))\n",
    "print(\"root mean squared error        : {}\".format(rmse(Y_train , y_preds_train)))\n",
    "print(\"mean absolute percentage error : {}\".format(np.mean(np.abs((Y_train - y_preds_train) / Y_train)) * 100))\n",
    "print(\"TEST SET\")\n",
    "print(\"mean absolute error            : {}\".format(mean_absolute_error(Y_test , y_preds_test)))\n",
    "print(\"mean squared error             : {}\".format(mse(Y_test , y_preds_test)))\n",
    "print(\"root mean squared error        : {}\".format(rmse(Y_test , y_preds_test)))\n",
    "print(\"mean absolute percentage error : {}\".format(np.mean(np.abs((Y_test - y_preds_test) / Y_test)) * 100))"
   ]
  },
  {
   "cell_type": "code",
   "execution_count": 37,
   "metadata": {},
   "outputs": [
    {
     "name": "stdout",
     "output_type": "stream",
     "text": [
      "Piece No.1 score: 0.837\n",
      "-----------------------\n",
      "Piece No.2 score: 0.793\n",
      "-----------------------\n",
      "Piece No.3 score: 0.544\n",
      "-----------------------\n",
      "Piece No.4 score: 0.827\n",
      "-----------------------\n",
      "Piece No.5 score: 0.814\n",
      "-----------------------\n"
     ]
    }
   ],
   "source": [
    "elasticregr = ElasticNet(alpha = 10 ** (-10) , l1_ratio = 0.9)\n",
    "\n",
    "kf = KFold(n_splits=5, shuffle=True, random_state=1111)\n",
    "pieces = kf.split(X)\n",
    "score_list = []\n",
    "\n",
    "for i, (train_indeks, test_indeks) in enumerate(pieces):\n",
    "    X_train, Y_train = X.iloc[train_indeks], Y.iloc[train_indeks]\n",
    "    X_test, Y_test = X.iloc[test_indeks], Y.iloc[test_indeks]\n",
    "    \n",
    "    elasticregr.fit(X_train, Y_train)\n",
    "    \n",
    "    prediction = elasticregr.predict(X_test)\n",
    "    \n",
    "    score = elasticregr.score(X_test, Y_test)  \n",
    "    score_list.append(score)\n",
    "    \n",
    "    print(\"Piece No.{} score: {:.3f}\".format(i+1, score))\n",
    "    print(\"-\"*23)"
   ]
  },
  {
   "attachments": {
    "Ads%C4%B1z.png": {
     "image/png": "[encoded data removed]"
    }
   },
   "cell_type": "markdown",
   "metadata": {},
   "source": [
    "![Ads%C4%B1z.png](attachment:Ads%C4%B1z.png)"
   ]
  },
  {
   "cell_type": "markdown",
   "metadata": {},
   "source": [
    "Regularization yöntemleri OLS'ye göre daha iyi sonuçlar verdi."
   ]
  },
  {
   "cell_type": "code",
   "execution_count": null,
   "metadata": {},
   "outputs": [],
   "source": []
  }
 ],
 "metadata": {
  "kernelspec": {
   "display_name": "Python 3",
   "language": "python",
   "name": "python3"
  },
  "language_info": {
   "codemirror_mode": {
    "name": "ipython",
    "version": 3
   },
   "file_extension": ".py",
   "mimetype": "text/x-python",
   "name": "python",
   "nbconvert_exporter": "python",
   "pygments_lexer": "ipython3",
   "version": "3.8.8"
  }
 },
 "nbformat": 4,
 "nbformat_minor": 4
}
