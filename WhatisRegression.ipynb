{
 "cells": [
  {
   "cell_type": "markdown",
   "metadata": {},
   "source": [
    "__(1) Let's assume that you have World Bank data on financial, economic and social indicators for several countries. You want to measure the factors that affect the level of development in these countries. To this end, you decide to use per capita income as a proxy for the development level, which is defined as the national income divided by the population. You want to use some features in your dataset to predict per capita income. Is this task a classification or a regression task? Why?__"
   ]
  },
  {
   "cell_type": "markdown",
   "metadata": {},
   "source": [
    "Hedef değişkeni sürekli bir veri olduğu için bu bir regresyon problemidir. Öğrenmek istediğimiz değeri oluşturduğumuz model sayesinde tahmin etmeye çalışırız."
   ]
  },
  {
   "cell_type": "markdown",
   "metadata": {},
   "source": [
    "__(2) Which of the following arguments are false and why?__\n",
    "- __OLS is a special type of linear regression models.__\n",
    "- __Regression models become useless if they don’t meet the assumptions of linear regression.__\n",
    "- __Estimation and prediction are the same thing in the context of linear regression models.__\n",
    "- __Linear regression model is only one kind of regression models. Regression problems can also be solved with other kind of models like Support Vector Machines or Random Forests.__"
   ]
  },
  {
   "cell_type": "markdown",
   "metadata": {},
   "source": [
    "- Regresyon analizinin ilk adımı modelin formüle edilmesidir. Formüldeki bilinmeyen katsayıların en uygun değerlerini bulmak için bir optimizasyon algoritması kullanılır. Doğrusal regresyon modellerinde kullanılan en uygun optimizasyon algoritması OLS olarak adlandırılır. Bu yüzden OLS algoritması için doğrusal regresyonun bir türü diyemeyiz.\n",
    "\n",
    "- Regresyon modelleri, doğrusal regresyon varsayımlarını karşılamıyorsa kullanışsız hale gelir diyemeyiz. Varsayımlarının geçerli olup olmadığını kontrol etmek modelimizin performansı için  her zaman iyi bir fikirdir. Ama bazı varsayımları karşılamamasına rağmen elimizde iyi tahmin yapan bir model varsa modelimiz kullanışsız değildir. Modellerde bu koşulları kontrol edip, uymayan koşullar için modeli düzeltmeye çalıştıktan sonra, bir sonraki adıma geçilebilir.\n",
    "\n",
    "- Estimation ve prediction, doğrusal regresyon modelleri bağlamında aynı şeydir.\n",
    "\n",
    "- Doğrusal regresyon modeli sadece bir tür regresyon modelidir. Regresyon problemleri, Support Vector Machines veya Random Forests gibi başka modellerle de çözülebilir. Support Vector Machines ve Random Forest hem sınıflandırma hem regresyon problemlerinde kullanılabilmektedir."
   ]
  },
  {
   "cell_type": "markdown",
   "metadata": {},
   "source": [
    "__(3) Assume that your project manager wants you to discover which free services your company offers make your customers buy more of your paid services. Formulate this task as a regression problem and write down the potential outcome and features that you’d like to work on.__"
   ]
  },
  {
   "cell_type": "markdown",
   "metadata": {},
   "source": [
    "Burada hedef değişken müşterilerin aldığı ücretli hizmetlerin sayısı veya tutarıdır. Reklamlar tüketicilerin ikna edilmesinde büyük rol oynayabilir. Müşterilerin aldığı ücretli hizmetlerin sayısını etkiler diyebiliriz. Bir ürünün satılmasında TV reklamları,radyo reklamları,sosyal medya reklamları,ürün yerleştirme gibi reklam çeşitlerinden hangisinin etkili olduğunu tespit ederek doğru reklam stratejileri belirlenebilir."
   ]
  },
  {
   "cell_type": "code",
   "execution_count": null,
   "metadata": {},
   "outputs": [],
   "source": []
  }
 ],
 "metadata": {
  "kernelspec": {
   "display_name": "Python 3",
   "language": "python",
   "name": "python3"
  },
  "language_info": {
   "codemirror_mode": {
    "name": "ipython",
    "version": 3
   },
   "file_extension": ".py",
   "mimetype": "text/x-python",
   "name": "python",
   "nbconvert_exporter": "python",
   "pygments_lexer": "ipython3",
   "version": "3.8.3"
  }
 },
 "nbformat": 4,
 "nbformat_minor": 4
}
